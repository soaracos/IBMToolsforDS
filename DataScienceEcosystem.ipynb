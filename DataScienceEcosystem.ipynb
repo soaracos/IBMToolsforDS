{
 "cells": [
  {
   "cell_type": "code",
   "execution_count": null,
   "id": "7fdf3539-2334-4324-94aa-d116cb6a7111",
   "metadata": {},
   "outputs": [],
   "source": [
    "#Exercise 1: Create a Jupyter Notebook, called DataScienceEcosystem.ipynb"
   ]
  },
  {
   "cell_type": "code",
   "execution_count": null,
   "id": "9b83f423-5000-4922-a8ba-c2962d5f6b52",
   "metadata": {},
   "outputs": [],
   "source": [
    "#Exercise 2: Create markdown cell with title of the notebook"
   ]
  },
  {
   "cell_type": "markdown",
   "id": "be11f609-9189-4e4e-ba8d-9846d97d0462",
   "metadata": {},
   "source": [
    "# DataScience Tools and Ecosystem"
   ]
  },
  {
   "cell_type": "code",
   "execution_count": null,
   "id": "9c1f77fe-567c-4620-93b9-158178abba0f",
   "metadata": {},
   "outputs": [],
   "source": [
    "# Exercise 3 - Create a markdown cell for an introduction"
   ]
  },
  {
   "cell_type": "markdown",
   "id": "25a9bf90-2110-42b4-a29e-6dc64f34a29a",
   "metadata": {},
   "source": [
    "In this notebook, Data Science Tools and Ecosystem are summarized."
   ]
  },
  {
   "cell_type": "code",
   "execution_count": null,
   "id": "8b7e0dae-8c75-43fc-9099-d7e2f65cab2f",
   "metadata": {},
   "outputs": [],
   "source": [
    "# Exercise 4 - Create a markdown cell to list data science languages"
   ]
  },
  {
   "cell_type": "markdown",
   "id": "afe879bb-57cf-4c89-a86a-0ba8b208e402",
   "metadata": {},
   "source": [
    "# Some of the popular languages that Data Scientists use are:\n",
    "    1.Python\n",
    "    2.Java\n",
    "    3.SQL"
   ]
  },
  {
   "cell_type": "code",
   "execution_count": null,
   "id": "928fc48d-731f-40c4-ad2f-43e1f26f79a8",
   "metadata": {},
   "outputs": [],
   "source": [
    "# Exercise 5 - Create a markdown cell to list data science libraries"
   ]
  },
  {
   "cell_type": "markdown",
   "id": "8fe213d3-4239-40aa-8b03-43fef8c64552",
   "metadata": {},
   "source": [
    "# Some of the commonly used libraries used by Data Scientists include:\n",
    "1. NumPy\n",
    "2. Pandas\n",
    "3. Matplotlib\n",
    "4. SciPy"
   ]
  },
  {
   "cell_type": "code",
   "execution_count": null,
   "id": "892c373c-69ce-4824-b1e9-162e13f64b70",
   "metadata": {},
   "outputs": [],
   "source": [
    "# Exercise 6 - Create a markdown cell with a table of Data Science tools"
   ]
  },
  {
   "cell_type": "markdown",
   "id": "1f84c3db-3e7a-4c44-91a2-0833e08286a9",
   "metadata": {},
   "source": [
    "|Data Science Tools|\n",
    "|------------------|\n",
    "|Jupyter Notebooks|\n",
    "|GitHub|\n",
    "|Python|\n"
   ]
  },
  {
   "cell_type": "code",
   "execution_count": null,
   "id": "c3e5202b-56ba-41c2-80b5-28e144a61051",
   "metadata": {},
   "outputs": [],
   "source": [
    "# Exercise 7 - Create a markdown cell introducing arithmetic expression examples"
   ]
  },
  {
   "cell_type": "markdown",
   "id": "85b93719-8351-47de-99f5-46972a760bb9",
   "metadata": {},
   "source": [
    "### Below are a few examples of evaluating arithmetic expressions in Python"
   ]
  },
  {
   "cell_type": "code",
   "execution_count": null,
   "id": "890233f4-80e2-4991-ac10-5071f10f03f2",
   "metadata": {},
   "outputs": [],
   "source": [
    "# Exercise 8 - Create a code cell to multiply and add numbers"
   ]
  },
  {
   "cell_type": "code",
   "execution_count": 1,
   "id": "ad1cdd2b-c882-4bb8-a377-62599ef6167f",
   "metadata": {
    "tags": []
   },
   "outputs": [
    {
     "data": {
      "text/plain": [
       "17"
      ]
     },
     "execution_count": 1,
     "metadata": {},
     "output_type": "execute_result"
    }
   ],
   "source": [
    "(3*4)+5"
   ]
  },
  {
   "cell_type": "code",
   "execution_count": null,
   "id": "d103913a-c028-4a74-85ad-b89998beee44",
   "metadata": {},
   "outputs": [],
   "source": [
    "# Exercise 9 - Create a code cell to convert minutes to hours"
   ]
  },
  {
   "cell_type": "code",
   "execution_count": 2,
   "id": "6c136d6a-87a2-41bc-b50b-dc8ef5793c7d",
   "metadata": {
    "tags": []
   },
   "outputs": [
    {
     "name": "stdout",
     "output_type": "stream",
     "text": [
      "3.3333333333333335\n"
     ]
    }
   ],
   "source": [
    "#This will convert 200 minutes to hours by diving by 60\n",
    "mins = 200\n",
    "hours = mins/60\n",
    "print(hours)"
   ]
  },
  {
   "cell_type": "code",
   "execution_count": null,
   "id": "f6b32783-7182-4f55-bf96-c28c1a32413d",
   "metadata": {},
   "outputs": [],
   "source": [
    "#Exercise 10 - Insert a markdown cell to list Objectives"
   ]
  },
  {
   "cell_type": "markdown",
   "id": "df26276d-09a9-46f8-9a46-189fac012736",
   "metadata": {
    "tags": []
   },
   "source": [
    "***Objectives:***\n",
    "\n",
    "* Python\n",
    "* Java\n",
    "* SQL"
   ]
  },
  {
   "cell_type": "code",
   "execution_count": null,
   "id": "2ad25f75-d719-4874-8939-aab65cb5e33e",
   "metadata": {},
   "outputs": [],
   "source": [
    "# Exercise 11 - Create a markdown cell to indicate the Author's name"
   ]
  },
  {
   "cell_type": "markdown",
   "id": "e1d87dd5-b06a-40a8-a14a-042a5586c583",
   "metadata": {},
   "source": [
    "## Author:\n",
    "Yuxiang (Shawn) Chu"
   ]
  },
  {
   "cell_type": "markdown",
   "id": "1a9b13e7-6786-4626-a6ab-3197696546f7",
   "metadata": {},
   "source": []
  }
 ],
 "metadata": {
  "kernelspec": {
   "display_name": "Python 3 (ipykernel)",
   "language": "python",
   "name": "python3"
  },
  "language_info": {
   "codemirror_mode": {
    "name": "ipython",
    "version": 3
   },
   "file_extension": ".py",
   "mimetype": "text/x-python",
   "name": "python",
   "nbconvert_exporter": "python",
   "pygments_lexer": "ipython3",
   "version": "3.11.3"
  }
 },
 "nbformat": 4,
 "nbformat_minor": 5
}
